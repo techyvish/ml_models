{
 "cells": [
  {
   "cell_type": "code",
   "execution_count": 2,
   "id": "4f5d6014-6993-4f09-b56a-624550709466",
   "metadata": {},
   "outputs": [],
   "source": [
    "import pandas as pd "
   ]
  },
  {
   "cell_type": "code",
   "execution_count": 7,
   "id": "5f5838e2-30e6-4e31-a896-1c08a11b3dd4",
   "metadata": {},
   "outputs": [],
   "source": [
    "# Sample data \n",
    "movies_data = {\n",
    "    'movie_id': [1, 2, 3, 4, 5, 6, 7, 8],\n",
    "    'title': ['Action Movie 1', 'Comedy Movie 1', 'Drama Movie 1', 'Action Comedy 1',\n",
    "              'Romantic Movie 1', 'Action Thriller 1', 'Comedy Drama 1', 'Sci-Fi Action 1'],\n",
    "    'genres': ['Action', 'Comedy', 'Drama', 'Action|Comedy',\n",
    "               'Romance', 'Action|Thriller', 'Comedy|Drama', 'Sci-Fi|Action']\n",
    "}"
   ]
  },
  {
   "cell_type": "code",
   "execution_count": 8,
   "id": "5f5a08b5-c181-4c76-8a98-93959cf7441e",
   "metadata": {},
   "outputs": [],
   "source": [
    "movies_df = pd.DataFrame(movies_data)"
   ]
  },
  {
   "cell_type": "code",
   "execution_count": 9,
   "id": "6613e596-ce1b-4b0b-adef-c05271e648f0",
   "metadata": {},
   "outputs": [],
   "source": [
    "# Sample user preference data (let's say for one user)\n",
    "user_preference_data = {\n",
    "    'movie_id': [1, 2, 3, 4, 5, 6], # User has interacted with these movies\n",
    "    'liked': [True, False, False, True, False, True] # True = Liked, False = Disliked\n",
    "}\n",
    "user_preference_df = pd.DataFrame(user_preference_data)\n"
   ]
  },
  {
   "cell_type": "code",
   "execution_count": 11,
   "id": "284ba3f1-f6f3-467a-a47b-a381f9b1ab5e",
   "metadata": {},
   "outputs": [
    {
     "name": "stdout",
     "output_type": "stream",
     "text": [
      "   movie_id              title           genres  liked\n",
      "0         1     Action Movie 1           Action   True\n",
      "1         2     Comedy Movie 1           Comedy  False\n",
      "2         3      Drama Movie 1            Drama  False\n",
      "3         4    Action Comedy 1    Action|Comedy   True\n",
      "4         5   Romantic Movie 1          Romance  False\n",
      "5         6  Action Thriller 1  Action|Thriller   True\n"
     ]
    }
   ],
   "source": [
    "# Merge movie data and user preference data\n",
    "movie_user_data = pd.merge(movies_df, user_preference_df, on='movie_id', how='inner')\n",
    "\n",
    "print(movie_user_data)"
   ]
  },
  {
   "cell_type": "code",
   "execution_count": 12,
   "id": "8d1220c1-afeb-4469-bd74-d568d0238a5a",
   "metadata": {},
   "outputs": [],
   "source": [
    "from sklearn.preprocessing import MultiLabelBinarizer "
   ]
  },
  {
   "cell_type": "code",
   "execution_count": 14,
   "id": "7307f845-4c29-4bcc-94ab-7b725154f980",
   "metadata": {},
   "outputs": [
    {
     "name": "stdout",
     "output_type": "stream",
     "text": [
      "   movie_id              title           genres         genres_list\n",
      "0         1     Action Movie 1           Action            [Action]\n",
      "1         2     Comedy Movie 1           Comedy            [Comedy]\n",
      "2         3      Drama Movie 1            Drama             [Drama]\n",
      "3         4    Action Comedy 1    Action|Comedy    [Action, Comedy]\n",
      "4         5   Romantic Movie 1          Romance           [Romance]\n",
      "5         6  Action Thriller 1  Action|Thriller  [Action, Thriller]\n",
      "6         7     Comedy Drama 1     Comedy|Drama     [Comedy, Drama]\n",
      "7         8    Sci-Fi Action 1    Sci-Fi|Action    [Sci-Fi, Action]\n"
     ]
    }
   ],
   "source": [
    "# 1. Split genres into lists\n",
    "movies_df['genres_list'] = movies_df['genres'].apply(lambda x: x.split('|'))\n",
    "print(movies_df)"
   ]
  },
  {
   "cell_type": "code",
   "execution_count": 18,
   "id": "2dbf43b7-cb9e-4dba-9d6b-b55f5c4b7efc",
   "metadata": {},
   "outputs": [
    {
     "name": "stdout",
     "output_type": "stream",
     "text": [
      "   Action  Comedy  Drama  Romance  Sci-Fi  Thriller\n",
      "0       1       0      0        0       0         0\n",
      "1       0       1      0        0       0         0\n",
      "2       0       0      1        0       0         0\n",
      "3       1       1      0        0       0         0\n",
      "4       0       0      0        1       0         0\n",
      "5       1       0      0        0       0         1\n",
      "6       0       1      1        0       0         0\n",
      "7       1       0      0        0       1         0\n"
     ]
    }
   ],
   "source": [
    "# 2. Use MultiLabelBinarizer to create binary genre features\n",
    "mlb = MultiLabelBinarizer()\n",
    "genre_features = pd.DataFrame(mlb.fit_transform(movies_df['genres_list']),\n",
    "                              columns=mlb.classes_,\n",
    "                              index=movies_df.index)\n",
    "print(genre_features)"
   ]
  },
  {
   "cell_type": "code",
   "execution_count": 20,
   "id": "19381969-78c6-4722-aa50-db946fdd1329",
   "metadata": {},
   "outputs": [],
   "source": [
    "# Concatenate genre features with the original movie data (excluding genres_list as it's not needed anymore)\n",
    "processed_movie_data = pd.concat([movies_df[['movie_id', 'title']], genre_features], axis=1)"
   ]
  },
  {
   "cell_type": "code",
   "execution_count": 21,
   "id": "5a8027ac-5c56-4d4c-b99f-b0f1d7429682",
   "metadata": {},
   "outputs": [
    {
     "name": "stdout",
     "output_type": "stream",
     "text": [
      "   movie_id              title  Action  Comedy  Drama  Romance  Sci-Fi  \\\n",
      "0         1     Action Movie 1       1       0      0        0       0   \n",
      "1         2     Comedy Movie 1       0       1      0        0       0   \n",
      "2         3      Drama Movie 1       0       0      1        0       0   \n",
      "3         4    Action Comedy 1       1       1      0        0       0   \n",
      "4         5   Romantic Movie 1       0       0      0        1       0   \n",
      "5         6  Action Thriller 1       1       0      0        0       0   \n",
      "\n",
      "   Thriller  liked  \n",
      "0         0   True  \n",
      "1         0  False  \n",
      "2         0  False  \n",
      "3         0   True  \n",
      "4         0  False  \n",
      "5         1   True  \n"
     ]
    }
   ],
   "source": [
    "# Merge with user preference data\n",
    "final_data = pd.merge(processed_movie_data, user_preference_df, on='movie_id', how='inner')\n",
    "\n",
    "print(final_data)"
   ]
  },
  {
   "cell_type": "code",
   "execution_count": 22,
   "id": "8826ba8a-9ea4-4e34-b453-38a35b778b86",
   "metadata": {},
   "outputs": [
    {
     "name": "stdout",
     "output_type": "stream",
     "text": [
      "Features (X):\n",
      "    Action  Comedy  Drama  Romance  Sci-Fi  Thriller\n",
      "0       1       0      0        0       0         0\n",
      "1       0       1      0        0       0         0\n",
      "2       0       0      1        0       0         0\n",
      "3       1       1      0        0       0         0\n",
      "4       0       0      0        1       0         0\n",
      "5       1       0      0        0       0         1\n",
      "\n",
      "Target (y):\n",
      " 0     True\n",
      "1    False\n",
      "2    False\n",
      "3     True\n",
      "4    False\n",
      "5     True\n",
      "Name: liked, dtype: bool\n"
     ]
    }
   ],
   "source": [
    "# Features are genre columns\n",
    "feature_columns = ['Action', 'Comedy', 'Drama', 'Romance', 'Sci-Fi', 'Thriller']\n",
    "X = final_data[feature_columns]\n",
    "y = final_data['liked']\n",
    "\n",
    "print(\"Features (X):\\n\", X)\n",
    "print(\"\\nTarget (y):\\n\", y)"
   ]
  },
  {
   "cell_type": "code",
   "execution_count": 24,
   "id": "1c770ffb-48c6-48b2-be3f-b3f58e87679e",
   "metadata": {},
   "outputs": [
    {
     "name": "stdout",
     "output_type": "stream",
     "text": [
      "\n",
      "Bernoulli Naive Bayes model trained!\n"
     ]
    }
   ],
   "source": [
    "from sklearn.naive_bayes import BernoulliNB\n",
    "\n",
    "# Initialize Bernoulli Naive Bayes classifier\n",
    "model = BernoulliNB()\n",
    "\n",
    "# Train the model\n",
    "model.fit(X, y)\n",
    "\n",
    "print(\"\\nBernoulli Naive Bayes model trained!\")"
   ]
  },
  {
   "cell_type": "code",
   "execution_count": 26,
   "id": "26278d18-5e40-4b83-9ba1-1c02ad40b84c",
   "metadata": {},
   "outputs": [
    {
     "name": "stdout",
     "output_type": "stream",
     "text": [
      "\n",
      "Feature vector for 'Sci-Fi Comedy 1':\n",
      "    Action  Comedy  Drama  Romance  Sci-Fi  Thriller\n",
      "0       0       1      0        0       1         0\n",
      "\n",
      "Probability of liking 'Sci-Fi Comedy 1': 0.2500\n",
      "\n",
      "Recommendation: Do not recommend 'Sci-Fi Comedy 1'.\n"
     ]
    }
   ],
   "source": [
    "# New movie to recommend - \"Sci-Fi Comedy 1\"\n",
    "new_movie_genres = ['Sci-Fi', 'Comedy']\n",
    "\n",
    "# Create feature vector for the new movie (similar to how we processed training data)\n",
    "new_movie_feature_vector = pd.DataFrame(mlb.transform([new_movie_genres]), columns=mlb.classes_)\n",
    "\n",
    "# Ensure it has the same columns as our training features (important if new genres appear, handle this robustly in production)\n",
    "new_movie_feature_vector = new_movie_feature_vector.reindex(columns=feature_columns, fill_value=0) # fill_value=0 for genres not present\n",
    "\n",
    "print(\"\\nFeature vector for 'Sci-Fi Comedy 1':\\n\", new_movie_feature_vector)\n",
    "\n",
    "# Predict probability of liking this movie\n",
    "probability_of_like = model.predict_proba(new_movie_feature_vector)[:, 1] # Probability of class 'True' (liked)\n",
    "\n",
    "print(f\"\\nProbability of liking 'Sci-Fi Comedy 1': {probability_of_like[0]:.4f}\")\n",
    "\n",
    "# Make recommendation decision (e.g., recommend if probability > 0.5)\n",
    "if probability_of_like[0] > 0.5:\n",
    "    print(\"\\nRecommendation: Recommend 'Sci-Fi Comedy 1'!\")\n",
    "else:\n",
    "    print(\"\\nRecommendation: Do not recommend 'Sci-Fi Comedy 1'.\")\n"
   ]
  },
  {
   "cell_type": "code",
   "execution_count": null,
   "id": "9adaad1d-3e2e-43dd-8f27-c55888b666dc",
   "metadata": {},
   "outputs": [],
   "source": []
  }
 ],
 "metadata": {
  "kernelspec": {
   "display_name": "ml-learning",
   "language": "python",
   "name": "ml-learning"
  },
  "language_info": {
   "codemirror_mode": {
    "name": "ipython",
    "version": 3
   },
   "file_extension": ".py",
   "mimetype": "text/x-python",
   "name": "python",
   "nbconvert_exporter": "python",
   "pygments_lexer": "ipython3",
   "version": "3.10.16"
  }
 },
 "nbformat": 4,
 "nbformat_minor": 5
}
