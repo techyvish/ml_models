{
 "cells": [
  {
   "cell_type": "code",
   "execution_count": 1,
   "id": "1ac35c96-82df-4c1d-b178-ca82aaccac04",
   "metadata": {},
   "outputs": [],
   "source": [
    "import numpy as np\n",
    "import pandas as pd\n",
    "from sklearn.model_selection import train_test_split\n",
    "from sklearn.feature_extraction.text import CountVectorizer\n",
    "from sklearn.naive_bayes import MultinomialNB\n",
    "from sklearn.metrics import classification_report, confusion_matrix\n"
   ]
  },
  {
   "cell_type": "code",
   "execution_count": 2,
   "id": "3bd8317b-bc28-47e0-abe9-b67241313e0d",
   "metadata": {},
   "outputs": [],
   "source": [
    "# Create synthetic email data\n",
    "emails = [\n",
    "    (\"Free lottery winner! Claim now!\", \"spam\"),\n",
    "    (\"Meeting at 3pm tomorrow\", \"ham\"),\n",
    "    (\"Get rich quick! Buy now!\", \"spam\"),\n",
    "    (\"Project deadline reminder\", \"ham\"),\n",
    "    (\"You've won $1000000!!!\", \"spam\"),\n",
    "    (\"Can we reschedule to Tuesday?\", \"ham\"),\n",
    "    (\"Viagra for sale cheap\", \"spam\"),\n",
    "    (\"Budget report for Q3\", \"ham\"),\n",
    "    (\"Double your money fast!\", \"spam\"),\n",
    "    (\"Team lunch next week\", \"ham\")\n",
    "]"
   ]
  },
  {
   "cell_type": "code",
   "execution_count": 3,
   "id": "210a8717-02de-4f49-b794-b5abf827eedc",
   "metadata": {},
   "outputs": [
    {
     "name": "stdout",
     "output_type": "stream",
     "text": [
      "Dataset Preview:\n",
      "                              text label\n",
      "0  Free lottery winner! Claim now!  spam\n",
      "1          Meeting at 3pm tomorrow   ham\n",
      "2         Get rich quick! Buy now!  spam\n",
      "3        Project deadline reminder   ham\n",
      "4           You've won $1000000!!!  spam\n"
     ]
    }
   ],
   "source": [
    "# Convert to DataFrame\n",
    "df = pd.DataFrame(emails, columns=['text', 'label'])\n",
    "print(\"Dataset Preview:\")\n",
    "print(df.head())"
   ]
  },
  {
   "cell_type": "code",
   "execution_count": 4,
   "id": "27928097-1315-4f7c-bda7-1c446c4a0fcf",
   "metadata": {},
   "outputs": [
    {
     "name": "stdout",
     "output_type": "stream",
     "text": [
      "\n",
      "Feature names (words): ['1000000' '3pm' 'budget' 'buy' 'cheap' 'claim' 'deadline' 'double' 'fast'\n",
      " 'free' 'lottery' 'lunch' 'meeting' 'money' 'project' 'q3' 'quick'\n",
      " 'reminder' 'report' 'reschedule' 'rich' 'sale' 'team' 'tomorrow'\n",
      " 'tuesday' 've' 'viagra' 'week' 'winner' 'won']\n"
     ]
    }
   ],
   "source": [
    "# Convert text to numerical features using CountVectorizer\n",
    "vectorizer = CountVectorizer(stop_words='english')\n",
    "X = vectorizer.fit_transform(df['text'])  # Convert text to word count matrix\n",
    "\n",
    "# Split into features (X) and target (y)\n",
    "y = df['label']\n",
    "\n",
    "# Split into training and testing sets\n",
    "X_train, X_test, y_train, y_test = train_test_split(\n",
    "    X, y, test_size=0.2, random_state=42\n",
    ")\n",
    "\n",
    "print(\"\\nFeature names (words):\", vectorizer.get_feature_names_out())"
   ]
  },
  {
   "cell_type": "code",
   "execution_count": 5,
   "id": "2503bc62-52d9-4457-98d1-c42625f3b22f",
   "metadata": {},
   "outputs": [
    {
     "name": "stdout",
     "output_type": "stream",
     "text": [
      "\n",
      "Classification Report:\n",
      "              precision    recall  f1-score   support\n",
      "\n",
      "         ham       0.50      1.00      0.67         1\n",
      "        spam       0.00      0.00      0.00         1\n",
      "\n",
      "    accuracy                           0.50         2\n",
      "   macro avg       0.25      0.50      0.33         2\n",
      "weighted avg       0.25      0.50      0.33         2\n",
      "\n"
     ]
    },
    {
     "name": "stderr",
     "output_type": "stream",
     "text": [
      "/Users/vishalp/anaconda3/envs/ml-learning/lib/python3.10/site-packages/sklearn/metrics/_classification.py:1565: UndefinedMetricWarning: Precision is ill-defined and being set to 0.0 in labels with no predicted samples. Use `zero_division` parameter to control this behavior.\n",
      "  _warn_prf(average, modifier, f\"{metric.capitalize()} is\", len(result))\n",
      "/Users/vishalp/anaconda3/envs/ml-learning/lib/python3.10/site-packages/sklearn/metrics/_classification.py:1565: UndefinedMetricWarning: Precision is ill-defined and being set to 0.0 in labels with no predicted samples. Use `zero_division` parameter to control this behavior.\n",
      "  _warn_prf(average, modifier, f\"{metric.capitalize()} is\", len(result))\n",
      "/Users/vishalp/anaconda3/envs/ml-learning/lib/python3.10/site-packages/sklearn/metrics/_classification.py:1565: UndefinedMetricWarning: Precision is ill-defined and being set to 0.0 in labels with no predicted samples. Use `zero_division` parameter to control this behavior.\n",
      "  _warn_prf(average, modifier, f\"{metric.capitalize()} is\", len(result))\n"
     ]
    }
   ],
   "source": [
    "# Initialize and train the Naive Bayes classifier\n",
    "nb_classifier = MultinomialNB()\n",
    "nb_classifier.fit(X_train, y_train)\n",
    "\n",
    "# Make predictions\n",
    "y_pred = nb_classifier.predict(X_test)\n",
    "\n",
    "# Print performance metrics\n",
    "print(\"\\nClassification Report:\")\n",
    "print(classification_report(y_test, y_pred))"
   ]
  },
  {
   "cell_type": "code",
   "execution_count": 11,
   "id": "3b5fbf20-9c6b-49e1-9c0e-9f8d6b0d6d93",
   "metadata": {},
   "outputs": [
    {
     "name": "stdout",
     "output_type": "stream",
     "text": [
      "\n",
      "Email Text: Congratulations! You've won an iPhone!\n",
      "Classification: spam\n",
      "Probability of spam: 78.43%\n",
      "Probability of ham: 21.57%\n",
      "\n",
      "Email Text: Please review the attached project proposal\n",
      "Classification: ham\n",
      "Probability of spam: 32.28%\n",
      "Probability of ham: 67.72%\n",
      "\n",
      "Email Text: There is a new scheme in market\n",
      "Classification: ham\n",
      "Probability of spam: 50.00%\n",
      "Probability of ham: 50.00%\n",
      "\n",
      "Email Text: win $1000000 cash\n",
      "Classification: spam\n",
      "Probability of spam: 65.60%\n",
      "Probability of ham: 34.40%\n"
     ]
    }
   ],
   "source": [
    "def classify_email(text):\n",
    "    # Convert text to the same format used during training\n",
    "    text_vectorized = vectorizer.transform([text])\n",
    "    \n",
    "    # Get prediction\n",
    "    prediction = nb_classifier.predict(text_vectorized)[0]\n",
    "    \n",
    "    # Get probability scores\n",
    "    proba = nb_classifier.predict_proba(text_vectorized)[0]\n",
    "    \n",
    "    print(f\"\\nEmail Text: {text}\")\n",
    "    print(f\"Classification: {prediction}\")\n",
    "    print(f\"Probability of spam: {proba[1]:.2%}\")\n",
    "    print(f\"Probability of ham: {proba[0]:.2%}\")\n",
    "\n",
    "# Test with new emails\n",
    "test_emails = [\n",
    "    \"Congratulations! You've won an iPhone!\",\n",
    "    \"Please review the attached project proposal\",\n",
    "    \"There is a new scheme in market\",\n",
    "    \"win $1000000 cash\"\n",
    "]\n",
    "\n",
    "for email in test_emails:\n",
    "    classify_email(email)"
   ]
  },
  {
   "cell_type": "code",
   "execution_count": null,
   "id": "2bc2dd94-5668-4150-90e9-3ddcc5552a03",
   "metadata": {},
   "outputs": [],
   "source": []
  }
 ],
 "metadata": {
  "kernelspec": {
   "display_name": "ml-learning",
   "language": "python",
   "name": "ml-learning"
  },
  "language_info": {
   "codemirror_mode": {
    "name": "ipython",
    "version": 3
   },
   "file_extension": ".py",
   "mimetype": "text/x-python",
   "name": "python",
   "nbconvert_exporter": "python",
   "pygments_lexer": "ipython3",
   "version": "3.10.16"
  }
 },
 "nbformat": 4,
 "nbformat_minor": 5
}
