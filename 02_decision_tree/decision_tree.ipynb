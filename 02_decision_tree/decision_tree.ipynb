{
 "cells": [
  {
   "cell_type": "code",
   "execution_count": 23,
   "id": "e85d3e69-da24-4dce-92bb-1d1a9ed2cd1c",
   "metadata": {},
   "outputs": [],
   "source": [
    "from sklearn.tree import DecisionTreeClassifier\n",
    "import pandas as pd "
   ]
  },
  {
   "cell_type": "code",
   "execution_count": 24,
   "id": "3b652f1d-59c1-4868-a1c2-b8ebf29c7751",
   "metadata": {},
   "outputs": [
    {
     "name": "stdout",
     "output_type": "stream",
     "text": [
      "             id  click      hour    C1  banner_pos   site_id site_domain  \\\n",
      "0  1.000009e+18      0  14102100  1005           0  1fbe01fe    f3845767   \n",
      "1  1.000017e+19      0  14102100  1005           0  1fbe01fe    f3845767   \n",
      "2  1.000037e+19      0  14102100  1005           0  1fbe01fe    f3845767   \n",
      "3  1.000064e+19      0  14102100  1005           0  1fbe01fe    f3845767   \n",
      "4  1.000068e+19      0  14102100  1005           1  fe8cc448    9166c161   \n",
      "\n",
      "  site_category    app_id app_domain  ... device_type device_conn_type    C14  \\\n",
      "0      28905ebd  ecad2386   7801e8d9  ...           1                2  15706   \n",
      "1      28905ebd  ecad2386   7801e8d9  ...           1                0  15704   \n",
      "2      28905ebd  ecad2386   7801e8d9  ...           1                0  15704   \n",
      "3      28905ebd  ecad2386   7801e8d9  ...           1                0  15706   \n",
      "4      0569f928  ecad2386   7801e8d9  ...           1                0  18993   \n",
      "\n",
      "   C15  C16   C17  C18  C19     C20  C21  \n",
      "0  320   50  1722    0   35      -1   79  \n",
      "1  320   50  1722    0   35  100084   79  \n",
      "2  320   50  1722    0   35  100084   79  \n",
      "3  320   50  1722    0   35  100084   79  \n",
      "4  320   50  2161    0   35      -1  157  \n",
      "\n",
      "[5 rows x 24 columns]\n"
     ]
    }
   ],
   "source": [
    "n_rows = 300000\n",
    "\n",
    "df = pd.read_csv('train.csv', nrows=n_rows) \n",
    "\n",
    "print(df.head(5))"
   ]
  },
  {
   "cell_type": "code",
   "execution_count": 25,
   "id": "16869694-010e-44e5-bf89-5f5d1ac2580a",
   "metadata": {},
   "outputs": [
    {
     "name": "stdout",
     "output_type": "stream",
     "text": [
      "(300000, 19)\n",
      "<Compressed Sparse Row sparse matrix of dtype 'float64'\n",
      "\twith 19 stored elements and shape (1, 8204)>\n",
      "  Coords\tValues\n",
      "  (0, 2)\t1.0\n",
      "  (0, 6)\t1.0\n",
      "  (0, 188)\t1.0\n",
      "  (0, 2608)\t1.0\n",
      "  (0, 2679)\t1.0\n",
      "  (0, 3771)\t1.0\n",
      "  (0, 3885)\t1.0\n",
      "  (0, 3929)\t1.0\n",
      "  (0, 4879)\t1.0\n",
      "  (0, 7315)\t1.0\n",
      "  (0, 7319)\t1.0\n",
      "  (0, 7475)\t1.0\n",
      "  (0, 7824)\t1.0\n",
      "  (0, 7828)\t1.0\n",
      "  (0, 7869)\t1.0\n",
      "  (0, 7977)\t1.0\n",
      "  (0, 7982)\t1.0\n",
      "  (0, 8021)\t1.0\n",
      "  (0, 8189)\t1.0\n",
      "<Compressed Sparse Row sparse matrix of dtype 'float64'\n",
      "\twith 19 stored elements and shape (1, 4514)>\n",
      "  Coords\tValues\n",
      "  (0, 1)\t1.0\n",
      "  (0, 6)\t1.0\n",
      "  (0, 646)\t1.0\n",
      "  (0, 970)\t1.0\n",
      "  (0, 1214)\t1.0\n",
      "  (0, 1798)\t1.0\n",
      "  (0, 1870)\t1.0\n",
      "  (0, 1899)\t1.0\n",
      "  (0, 2154)\t1.0\n",
      "  (0, 3845)\t1.0\n",
      "  (0, 3848)\t1.0\n",
      "  (0, 4087)\t1.0\n",
      "  (0, 4179)\t1.0\n",
      "  (0, 4182)\t1.0\n",
      "  (0, 4247)\t1.0\n",
      "  (0, 4310)\t1.0\n",
      "  (0, 4314)\t1.0\n",
      "  (0, 4350)\t1.0\n",
      "  (0, 4512)\t1.0\n"
     ]
    }
   ],
   "source": [
    "Y = df['click'].values\n",
    "X = df.drop(['click','id','hour','device_id', 'device_ip'],axis=1).values\n",
    "print(X.shape)\n",
    "\n",
    "n_train = int(n_rows * 0.9)\n",
    "X_train = X[:n_train]\n",
    "Y_train = Y[:n_train]\n",
    "X_test  = X[n_train:]\n",
    "Y_test  = Y[n_train:]\n",
    "\n",
    "\n",
    "from sklearn.preprocessing import OneHotEncoder \n",
    "\n",
    "enc = OneHotEncoder(handle_unknown='ignore')\n",
    "\n",
    "X_train_enc = enc.fit_transform(X_train)\n",
    "print(X_train_enc[0])\n",
    "\n",
    "X_test_enc = enc.fit_transform(X_test)\n",
    "print(X_test_enc[0])"
   ]
  },
  {
   "cell_type": "raw",
   "id": "52929f1b-6cd7-4587-9be8-52ba80b12b19",
   "metadata": {},
   "source": [
    "parameters = {'max_depth': [3,10, None]}\n",
    "decision_tree = DecisionTreeClassifier(criterion='gini', mini_sample_split=30)\n",
    "grid_search = GridSearchCV(decision_tree, parameters, n_jobs=1, cv=3, scoring='roc_auc')\n",
    "\n",
    "grid_search.fit(X_train,Y_train)\n",
    "print(grid_search.best_params_)"
   ]
  },
  {
   "cell_type": "code",
   "execution_count": null,
   "id": "1d3b75f9-4476-401b-991a-6901e2b03ca9",
   "metadata": {},
   "outputs": [],
   "source": []
  },
  {
   "cell_type": "code",
   "execution_count": null,
   "id": "ff5eea53-6999-48c0-9f1b-2f6e61d4e94e",
   "metadata": {},
   "outputs": [],
   "source": []
  }
 ],
 "metadata": {
  "kernelspec": {
   "display_name": "ml-learning",
   "language": "python",
   "name": "ml-learning"
  },
  "language_info": {
   "codemirror_mode": {
    "name": "ipython",
    "version": 3
   },
   "file_extension": ".py",
   "mimetype": "text/x-python",
   "name": "python",
   "nbconvert_exporter": "python",
   "pygments_lexer": "ipython3",
   "version": "3.10.16"
  }
 },
 "nbformat": 4,
 "nbformat_minor": 5
}
